{
 "cells": [
  {
   "cell_type": "code",
   "execution_count": 1,
   "metadata": {},
   "outputs": [
    {
     "name": "stdout",
     "output_type": "stream",
     "text": [
      "読み込みファイル: C:/Users/17T2166H/OneDrive/信州大学/四年/研究/実験/20211112_第15回/Xay/YYNo1508.dat\n"
     ]
    }
   ],
   "source": [
    "# coding: utf-8\n",
    "from tkinter import filedialog\n",
    "import os\n",
    "import re\n",
    "# ファイル指定\n",
    "# typ = [('CSVファイル','*.csv')] \n",
    "typ = [(' ','*')] \n",
    "# dir = 'C:\\\\'\n",
    "dir = 'C:\\\\Users\\\\17T2166H\\\\OneDrive\\\\信州大学\\\\四年\\\\研究\\\\実験'\n",
    "fle = filedialog.askopenfilename(filetypes = typ, initialdir = dir) \n",
    "csv_name = fle\n",
    "print(\"読み込みファイル:\",fle)\n",
    "実験number =re.findall(r\"\\d+\", os.path.splitext(os.path.basename(fle))[0])[0]\n",
    "# csv_name =\"YYNo\"+実験number+\"_4pd.csv\""
   ]
  },
  {
   "cell_type": "code",
   "execution_count": 2,
   "metadata": {},
   "outputs": [],
   "source": [
    "# import seaborn as sns\n",
    "import pandas as pd\n",
    "import numpy as np\n",
    "# from scipy.signal import argrelmax\n",
    "import matplotlib.pyplot as plt\n",
    "from matplotlib.backends.backend_pdf import PdfPages\n",
    "# 日本語出力対応\n",
    "plt.rcParams['font.family'] = 'IPAexGothic'"
   ]
  },
  {
   "cell_type": "code",
   "execution_count": 3,
   "metadata": {},
   "outputs": [
    {
     "data": {
      "text/html": [
       "<div>\n",
       "<style scoped>\n",
       "    .dataframe tbody tr th:only-of-type {\n",
       "        vertical-align: middle;\n",
       "    }\n",
       "\n",
       "    .dataframe tbody tr th {\n",
       "        vertical-align: top;\n",
       "    }\n",
       "\n",
       "    .dataframe thead th {\n",
       "        text-align: right;\n",
       "    }\n",
       "</style>\n",
       "<table border=\"1\" class=\"dataframe\">\n",
       "  <thead>\n",
       "    <tr style=\"text-align: right;\">\n",
       "      <th></th>\n",
       "      <th>2sita</th>\n",
       "      <th>cps</th>\n",
       "    </tr>\n",
       "  </thead>\n",
       "  <tbody>\n",
       "    <tr>\n",
       "      <th>0</th>\n",
       "      <td>20.00</td>\n",
       "      <td>7</td>\n",
       "    </tr>\n",
       "    <tr>\n",
       "      <th>1</th>\n",
       "      <td>20.02</td>\n",
       "      <td>4</td>\n",
       "    </tr>\n",
       "    <tr>\n",
       "      <th>2</th>\n",
       "      <td>20.04</td>\n",
       "      <td>8</td>\n",
       "    </tr>\n",
       "    <tr>\n",
       "      <th>3</th>\n",
       "      <td>20.06</td>\n",
       "      <td>11</td>\n",
       "    </tr>\n",
       "    <tr>\n",
       "      <th>4</th>\n",
       "      <td>20.08</td>\n",
       "      <td>10</td>\n",
       "    </tr>\n",
       "    <tr>\n",
       "      <th>5</th>\n",
       "      <td>20.10</td>\n",
       "      <td>10</td>\n",
       "    </tr>\n",
       "    <tr>\n",
       "      <th>6</th>\n",
       "      <td>20.12</td>\n",
       "      <td>7</td>\n",
       "    </tr>\n",
       "    <tr>\n",
       "      <th>7</th>\n",
       "      <td>20.14</td>\n",
       "      <td>7</td>\n",
       "    </tr>\n",
       "    <tr>\n",
       "      <th>8</th>\n",
       "      <td>20.16</td>\n",
       "      <td>14</td>\n",
       "    </tr>\n",
       "    <tr>\n",
       "      <th>9</th>\n",
       "      <td>20.18</td>\n",
       "      <td>10</td>\n",
       "    </tr>\n",
       "  </tbody>\n",
       "</table>\n",
       "</div>"
      ],
      "text/plain": [
       "   2sita  cps\n",
       "0  20.00    7\n",
       "1  20.02    4\n",
       "2  20.04    8\n",
       "3  20.06   11\n",
       "4  20.08   10\n",
       "5  20.10   10\n",
       "6  20.12    7\n",
       "7  20.14    7\n",
       "8  20.16   14\n",
       "9  20.18   10"
      ]
     },
     "execution_count": 3,
     "metadata": {},
     "output_type": "execute_result"
    }
   ],
   "source": [
    "#CSVファイルをUTF-8形式で読み込む\n",
    "df_score = pd.read_csv(csv_name,encoding = 'UTF8', engine='python', names=(\"2sita\", \"cps\"), sep=\"   \")\n",
    "#dataを出力\n",
    "df_score[0:10]"
   ]
  },
  {
   "cell_type": "code",
   "execution_count": 4,
   "metadata": {},
   "outputs": [],
   "source": [
    "# 移動平均を作成\n",
    "average_num=5\n",
    "df_score[\"cps移動平均\"]=df_score[\"cps\"].rolling(average_num).mean().round(1)\n",
    "# df_score[0:10]"
   ]
  },
  {
   "cell_type": "code",
   "execution_count": 5,
   "metadata": {},
   "outputs": [
    {
     "data": {
      "image/png": "[encoded data removed]",
      "text/plain": [
       "<Figure size 432x288 with 1 Axes>"
      ]
     },
     "metadata": {
      "needs_background": "light"
     },
     "output_type": "display_data"
    }
   ],
   "source": [
    "# 表示データ抜き出し\n",
    "x=df_score[\"2sita\"]\n",
    "y=df_score[\"cps\"]\n",
    "y_rolling=df_score[\"cps移動平均\"]\n",
    "\n",
    "# グラフの作成、表示、保存（PDF）\n",
    "# fig = plt.figure()\n",
    "# ax = fig.add_subplot(111) \n",
    "plt.scatter(x, y, label=\"測定値\")\n",
    "plt.plot(x, y_rolling,color=\"r\", label=str(average_num)+\"データ移動平均\")\n",
    "# plt.set_title(\"YYNo\"+実験number)\n",
    "plt.xlabel(\"2θ\")\n",
    "plt.ylabel(\"cps\")\n",
    "plt.legend()\n",
    "# 個別調整\n",
    "# plt.yscale('log')\n",
    "plt.yscale('linear')\n",
    "plt.xlim(20,28)\n",
    "# plt.xlim(64,68)\n",
    "# kubomi = 68.7\n",
    "# plt.xlim(kubomi-0.3,kubomi+0.3)\n",
    "# plt.xlim(60,70)\n",
    "\n",
    "plt.ylim(0,30)\n",
    "# plt.ylim(0,30)\n",
    "plt.show()"
   ]
  },
  {
   "cell_type": "code",
   "execution_count": 7,
   "metadata": {},
   "outputs": [],
   "source": [
    "plt.close()"
   ]
  },
  {
   "cell_type": "code",
   "execution_count": 18,
   "metadata": {},
   "outputs": [
    {
     "data": {
      "text/plain": [
       "0.019999999999999574"
      ]
     },
     "execution_count": 18,
     "metadata": {},
     "output_type": "execute_result"
    }
   ],
   "source": [
    "# show_point=69.1\n",
    "# show_nom=int((show_point-20)/0.02)\n",
    "# df_score[show_nom-10:show_nom+10]\n",
    "df_score[\"2sita\"][1]-df_score[\"2sita\"][0]"
   ]
  },
  {
   "cell_type": "code",
   "execution_count": 10,
   "metadata": {},
   "outputs": [
    {
     "data": {
      "text/html": [
       "<div>\n",
       "<style scoped>\n",
       "    .dataframe tbody tr th:only-of-type {\n",
       "        vertical-align: middle;\n",
       "    }\n",
       "\n",
       "    .dataframe tbody tr th {\n",
       "        vertical-align: top;\n",
       "    }\n",
       "\n",
       "    .dataframe thead th {\n",
       "        text-align: right;\n",
       "    }\n",
       "</style>\n",
       "<table border=\"1\" class=\"dataframe\">\n",
       "  <thead>\n",
       "    <tr style=\"text-align: right;\">\n",
       "      <th></th>\n",
       "      <th>2sita</th>\n",
       "      <th>cps</th>\n",
       "      <th>cps移動平均</th>\n",
       "    </tr>\n",
       "  </thead>\n",
       "  <tbody>\n",
       "    <tr>\n",
       "      <th>2435</th>\n",
       "      <td>68.6998</td>\n",
       "      <td>638</td>\n",
       "      <td>568.0</td>\n",
       "    </tr>\n",
       "    <tr>\n",
       "      <th>2436</th>\n",
       "      <td>68.7198</td>\n",
       "      <td>604</td>\n",
       "      <td>595.8</td>\n",
       "    </tr>\n",
       "    <tr>\n",
       "      <th>2437</th>\n",
       "      <td>68.7398</td>\n",
       "      <td>537</td>\n",
       "      <td>596.2</td>\n",
       "    </tr>\n",
       "    <tr>\n",
       "      <th>2438</th>\n",
       "      <td>68.7598</td>\n",
       "      <td>495</td>\n",
       "      <td>579.2</td>\n",
       "    </tr>\n",
       "    <tr>\n",
       "      <th>2439</th>\n",
       "      <td>68.7797</td>\n",
       "      <td>542</td>\n",
       "      <td>563.2</td>\n",
       "    </tr>\n",
       "    <tr>\n",
       "      <th>2440</th>\n",
       "      <td>68.7997</td>\n",
       "      <td>573</td>\n",
       "      <td>550.2</td>\n",
       "    </tr>\n",
       "    <tr>\n",
       "      <th>2441</th>\n",
       "      <td>68.8197</td>\n",
       "      <td>571</td>\n",
       "      <td>543.6</td>\n",
       "    </tr>\n",
       "    <tr>\n",
       "      <th>2442</th>\n",
       "      <td>68.8397</td>\n",
       "      <td>584</td>\n",
       "      <td>553.0</td>\n",
       "    </tr>\n",
       "    <tr>\n",
       "      <th>2443</th>\n",
       "      <td>68.8597</td>\n",
       "      <td>629</td>\n",
       "      <td>579.8</td>\n",
       "    </tr>\n",
       "    <tr>\n",
       "      <th>2444</th>\n",
       "      <td>68.8797</td>\n",
       "      <td>655</td>\n",
       "      <td>602.4</td>\n",
       "    </tr>\n",
       "    <tr>\n",
       "      <th>2445</th>\n",
       "      <td>68.8997</td>\n",
       "      <td>567</td>\n",
       "      <td>601.2</td>\n",
       "    </tr>\n",
       "    <tr>\n",
       "      <th>2446</th>\n",
       "      <td>68.9197</td>\n",
       "      <td>485</td>\n",
       "      <td>584.0</td>\n",
       "    </tr>\n",
       "    <tr>\n",
       "      <th>2447</th>\n",
       "      <td>68.9397</td>\n",
       "      <td>448</td>\n",
       "      <td>556.8</td>\n",
       "    </tr>\n",
       "    <tr>\n",
       "      <th>2448</th>\n",
       "      <td>68.9597</td>\n",
       "      <td>434</td>\n",
       "      <td>517.8</td>\n",
       "    </tr>\n",
       "    <tr>\n",
       "      <th>2449</th>\n",
       "      <td>68.9797</td>\n",
       "      <td>387</td>\n",
       "      <td>464.2</td>\n",
       "    </tr>\n",
       "    <tr>\n",
       "      <th>2450</th>\n",
       "      <td>68.9997</td>\n",
       "      <td>378</td>\n",
       "      <td>426.4</td>\n",
       "    </tr>\n",
       "    <tr>\n",
       "      <th>2451</th>\n",
       "      <td>69.0197</td>\n",
       "      <td>360</td>\n",
       "      <td>401.4</td>\n",
       "    </tr>\n",
       "    <tr>\n",
       "      <th>2452</th>\n",
       "      <td>69.0397</td>\n",
       "      <td>316</td>\n",
       "      <td>375.0</td>\n",
       "    </tr>\n",
       "    <tr>\n",
       "      <th>2453</th>\n",
       "      <td>69.0597</td>\n",
       "      <td>297</td>\n",
       "      <td>347.6</td>\n",
       "    </tr>\n",
       "    <tr>\n",
       "      <th>2454</th>\n",
       "      <td>69.0797</td>\n",
       "      <td>273</td>\n",
       "      <td>324.8</td>\n",
       "    </tr>\n",
       "  </tbody>\n",
       "</table>\n",
       "</div>"
      ],
      "text/plain": [
       "        2sita  cps  cps移動平均\n",
       "2435  68.6998  638    568.0\n",
       "2436  68.7198  604    595.8\n",
       "2437  68.7398  537    596.2\n",
       "2438  68.7598  495    579.2\n",
       "2439  68.7797  542    563.2\n",
       "2440  68.7997  573    550.2\n",
       "2441  68.8197  571    543.6\n",
       "2442  68.8397  584    553.0\n",
       "2443  68.8597  629    579.8\n",
       "2444  68.8797  655    602.4\n",
       "2445  68.8997  567    601.2\n",
       "2446  68.9197  485    584.0\n",
       "2447  68.9397  448    556.8\n",
       "2448  68.9597  434    517.8\n",
       "2449  68.9797  387    464.2\n",
       "2450  68.9997  378    426.4\n",
       "2451  69.0197  360    401.4\n",
       "2452  69.0397  316    375.0\n",
       "2453  69.0597  297    347.6\n",
       "2454  69.0797  273    324.8"
      ]
     },
     "execution_count": 10,
     "metadata": {},
     "output_type": "execute_result"
    }
   ],
   "source": [
    "show_point=68.9\n",
    "# show_point=kubomi\n",
    "show_nom=int((show_point-20)/0.02)\n",
    "df_score[show_nom-10:show_nom+10]\n",
    "# df_score[\"2sita\"][show_nom-25:show_nom+25].max()"
   ]
  },
  {
   "cell_type": "code",
   "execution_count": 50,
   "metadata": {},
   "outputs": [
    {
     "name": "stdout",
     "output_type": "stream",
     "text": [
      "[  2580   2722   2691   2774   2764   2622   2740   2888   3134   3398\n",
      "   3995   4728   5906   8019  12576  27076  76367 121597  99366  48697\n",
      "  22271  12676   9262   9133  12482  24700  58852  84724  64602  30466\n",
      "  14082   7628   4979   3706   2998   2476   2143   1882   1685   1358\n",
      "   1276   1151   1010   1000    850    846    735    763    619    619]\n",
      "(array([ 3, 17, 27], dtype=int64),)\n"
     ]
    }
   ],
   "source": [
    "np_peak =(df_score[\"cps\"][show_nom-25:show_nom+25].values)\n",
    "# x = np.array([2, 1, 2, 3, 2, 0, 1, 0])\n",
    "print(np_peak)\n",
    "print(argrelmax(np_peak, order=3))"
   ]
  }
 ],
 "metadata": {
  "interpreter": {
   "hash": "339e8e661b019d06ca45b8e70a85ade3d968c73c8b8a09baf2d86f080d7a2dc2"
  },
  "kernelspec": {
   "display_name": "Python 3.9.7 64-bit ('YYnoteboke_xrayvenv': venv)",
   "name": "python3"
  },
  "language_info": {
   "codemirror_mode": {
    "name": "ipython",
    "version": 3
   },
   "file_extension": ".py",
   "mimetype": "text/x-python",
   "name": "python",
   "nbconvert_exporter": "python",
   "pygments_lexer": "ipython3",
   "version": "3.9.7"
  }
 },
 "nbformat": 4,
 "nbformat_minor": 2
}
