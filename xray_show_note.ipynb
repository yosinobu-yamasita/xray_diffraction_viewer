{
 "cells": [
  {
   "cell_type": "code",
   "execution_count": 1,
   "source": [
    "# coding: utf-8\r\n",
    "from tkinter import filedialog\r\n",
    "import os\r\n",
    "import re\r\n",
    "# ファイル指定\r\n",
    "# typ = [('CSVファイル','*.csv')] \r\n",
    "typ = [(' ','*')] \r\n",
    "# dir = 'C:\\\\'\r\n",
    "dir = 'C:\\\\Users\\\\17T2166H\\\\OneDrive\\\\信州大学\\\\四年\\\\研究\\\\実験'\r\n",
    "fle = filedialog.askopenfilename(filetypes = typ, initialdir = dir) \r\n",
    "csv_name = fle\r\n",
    "print(\"読み込みファイル:\",fle)\r\n",
    "実験number =re.findall(r\"\\d+\", os.path.splitext(os.path.basename(fle))[0])[0]\r\n",
    "# csv_name =\"YYNo\"+実験number+\"_4pd.csv\""
   ],
   "outputs": [
    {
     "output_type": "stream",
     "name": "stdout",
     "text": [
      "読み込みファイル: C:/Users/17T2166H/OneDrive/信州大学/四年/研究/実験/20210922_第13回/X線回折による配向解析/YYNo013E.dat\n"
     ]
    }
   ],
   "metadata": {}
  },
  {
   "cell_type": "code",
   "execution_count": 2,
   "source": [
    "# import seaborn as sns\r\n",
    "import pandas as pd\r\n",
    "import numpy as np\r\n",
    "from scipy.signal import argrelmax\r\n",
    "import matplotlib.pyplot as plt\r\n",
    "from matplotlib.backends.backend_pdf import PdfPages\r\n",
    "# 日本語出力対応\r\n",
    "plt.rcParams['font.family'] = 'IPAexGothic'"
   ],
   "outputs": [],
   "metadata": {}
  },
  {
   "cell_type": "code",
   "execution_count": 8,
   "source": [
    "#CSVファイルをUTF-8形式で読み込む\r\n",
    "df_score = pd.read_csv(csv_name,encoding = 'UTF8', engine='python', names=(\"2sita\", \"cps\"), sep=\"   \")\r\n",
    "#dataを出力\r\n",
    "df_score[0:10]"
   ],
   "outputs": [
    {
     "output_type": "execute_result",
     "data": {
      "text/html": [
       "<div>\n",
       "<style scoped>\n",
       "    .dataframe tbody tr th:only-of-type {\n",
       "        vertical-align: middle;\n",
       "    }\n",
       "\n",
       "    .dataframe tbody tr th {\n",
       "        vertical-align: top;\n",
       "    }\n",
       "\n",
       "    .dataframe thead th {\n",
       "        text-align: right;\n",
       "    }\n",
       "</style>\n",
       "<table border=\"1\" class=\"dataframe\">\n",
       "  <thead>\n",
       "    <tr style=\"text-align: right;\">\n",
       "      <th></th>\n",
       "      <th>2sita</th>\n",
       "      <th>cps</th>\n",
       "    </tr>\n",
       "  </thead>\n",
       "  <tbody>\n",
       "    <tr>\n",
       "      <th>0</th>\n",
       "      <td>20.00</td>\n",
       "      <td>5</td>\n",
       "    </tr>\n",
       "    <tr>\n",
       "      <th>1</th>\n",
       "      <td>20.02</td>\n",
       "      <td>6</td>\n",
       "    </tr>\n",
       "    <tr>\n",
       "      <th>2</th>\n",
       "      <td>20.04</td>\n",
       "      <td>7</td>\n",
       "    </tr>\n",
       "    <tr>\n",
       "      <th>3</th>\n",
       "      <td>20.06</td>\n",
       "      <td>7</td>\n",
       "    </tr>\n",
       "    <tr>\n",
       "      <th>4</th>\n",
       "      <td>20.08</td>\n",
       "      <td>6</td>\n",
       "    </tr>\n",
       "    <tr>\n",
       "      <th>5</th>\n",
       "      <td>20.10</td>\n",
       "      <td>12</td>\n",
       "    </tr>\n",
       "    <tr>\n",
       "      <th>6</th>\n",
       "      <td>20.12</td>\n",
       "      <td>7</td>\n",
       "    </tr>\n",
       "    <tr>\n",
       "      <th>7</th>\n",
       "      <td>20.14</td>\n",
       "      <td>3</td>\n",
       "    </tr>\n",
       "    <tr>\n",
       "      <th>8</th>\n",
       "      <td>20.16</td>\n",
       "      <td>6</td>\n",
       "    </tr>\n",
       "    <tr>\n",
       "      <th>9</th>\n",
       "      <td>20.18</td>\n",
       "      <td>4</td>\n",
       "    </tr>\n",
       "  </tbody>\n",
       "</table>\n",
       "</div>"
      ],
      "text/plain": [
       "   2sita  cps\n",
       "0  20.00    5\n",
       "1  20.02    6\n",
       "2  20.04    7\n",
       "3  20.06    7\n",
       "4  20.08    6\n",
       "5  20.10   12\n",
       "6  20.12    7\n",
       "7  20.14    3\n",
       "8  20.16    6\n",
       "9  20.18    4"
      ]
     },
     "metadata": {},
     "execution_count": 8
    }
   ],
   "metadata": {}
  },
  {
   "cell_type": "code",
   "execution_count": 4,
   "source": [
    "# 移動平均を作成\r\n",
    "average_num=5\r\n",
    "df_score[\"cps移動平均\"]=df_score[\"cps\"].rolling(average_num).mean().round(1)\r\n",
    "# df_score[0:10]"
   ],
   "outputs": [],
   "metadata": {}
  },
  {
   "cell_type": "code",
   "execution_count": 7,
   "source": [
    "# 表示データ抜き出し\r\n",
    "x=df_score[\"2sita\"]\r\n",
    "y=df_score[\"cps\"]\r\n",
    "y_rolling=df_score[\"cps移動平均\"]\r\n",
    "\r\n",
    "# グラフの作成、表示、保存（PDF）\r\n",
    "# fig = plt.figure()\r\n",
    "# ax = fig.add_subplot(111) \r\n",
    "plt.scatter(x, y, label=\"測定値\")\r\n",
    "plt.plot(x, y_rolling,color=\"r\", label=str(average_num)+\"データ移動平均\")\r\n",
    "# plt.set_title(\"YYNo\"+実験number)\r\n",
    "plt.xlabel(\"2θ\")\r\n",
    "plt.ylabel(\"cps\")\r\n",
    "plt.legend()\r\n",
    "# 個別調整\r\n",
    "# plt.yscale('log')\r\n",
    "plt.yscale('linear')\r\n",
    "plt.xlim(44,46)\r\n",
    "# plt.xlim(64,68)\r\n",
    "# kubomi = 68.7\r\n",
    "# plt.xlim(kubomi-0.3,kubomi+0.3)\r\n",
    "# plt.xlim(60,70)\r\n",
    "\r\n",
    "plt.ylim(0,20)\r\n",
    "# plt.ylim(0,30)\r\n",
    "plt.show()"
   ],
   "outputs": [
    {
     "output_type": "display_data",
     "data": {
      "image/png": "[encoded data removed]",
      "text/plain": [
       "<Figure size 432x288 with 1 Axes>"
      ]
     },
     "metadata": {
      "needs_background": "light"
     }
    }
   ],
   "metadata": {}
  },
  {
   "cell_type": "code",
   "execution_count": 7,
   "source": [
    "plt.close()"
   ],
   "outputs": [],
   "metadata": {}
  },
  {
   "cell_type": "code",
   "execution_count": 18,
   "source": [
    "# show_point=69.1\r\n",
    "# show_nom=int((show_point-20)/0.02)\r\n",
    "# df_score[show_nom-10:show_nom+10]\r\n",
    "df_score[\"2sita\"][1]-df_score[\"2sita\"][0]"
   ],
   "outputs": [
    {
     "output_type": "execute_result",
     "data": {
      "text/plain": [
       "0.019999999999999574"
      ]
     },
     "metadata": {},
     "execution_count": 18
    }
   ],
   "metadata": {}
  },
  {
   "cell_type": "code",
   "execution_count": 20,
   "source": [
    "show_point=69.1\r\n",
    "# show_point=kubomi\r\n",
    "show_nom=int((show_point-20)/0.02)\r\n",
    "df_score[show_nom-10:show_nom+10]\r\n",
    "df_score[\"2sita\"][show_nom-25:show_nom+25].max()"
   ],
   "outputs": [
    {
     "output_type": "execute_result",
     "data": {
      "text/plain": [
       "69.5594"
      ]
     },
     "metadata": {},
     "execution_count": 20
    }
   ],
   "metadata": {}
  },
  {
   "cell_type": "code",
   "execution_count": 50,
   "source": [
    "np_peak =(df_score[\"cps\"][show_nom-25:show_nom+25].values)\r\n",
    "# x = np.array([2, 1, 2, 3, 2, 0, 1, 0])\r\n",
    "print(np_peak)\r\n",
    "print(argrelmax(np_peak, order=3))"
   ],
   "outputs": [
    {
     "output_type": "stream",
     "name": "stdout",
     "text": [
      "[  2580   2722   2691   2774   2764   2622   2740   2888   3134   3398\n",
      "   3995   4728   5906   8019  12576  27076  76367 121597  99366  48697\n",
      "  22271  12676   9262   9133  12482  24700  58852  84724  64602  30466\n",
      "  14082   7628   4979   3706   2998   2476   2143   1882   1685   1358\n",
      "   1276   1151   1010   1000    850    846    735    763    619    619]\n",
      "(array([ 3, 17, 27], dtype=int64),)\n"
     ]
    }
   ],
   "metadata": {}
  }
 ],
 "metadata": {
  "kernelspec": {
   "name": "python3",
   "display_name": "Python 3.8.8 64-bit ('base': conda)"
  },
  "language_info": {
   "codemirror_mode": {
    "name": "ipython",
    "version": 3
   },
   "file_extension": ".py",
   "mimetype": "text/x-python",
   "name": "python",
   "nbconvert_exporter": "python",
   "pygments_lexer": "ipython3",
   "version": "3.8.8"
  },
  "interpreter": {
   "hash": "c75674c0080dcb06e5946a840543b72616aafff2497f942ee756d03da87b481e"
  }
 },
 "nbformat": 4,
 "nbformat_minor": 2
}