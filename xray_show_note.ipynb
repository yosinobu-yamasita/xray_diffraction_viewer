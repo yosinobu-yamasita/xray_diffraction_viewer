{
 "cells": [
  {
   "cell_type": "code",
   "execution_count": 1,
   "metadata": {},
   "outputs": [
    {
     "name": "stdout",
     "output_type": "stream",
     "text": [
      "読み込みファイル: C:/Users/17T2166H/OneDrive/信州大学/四年/研究/実験/20211202_第31回/Xray/YYNo31C1.dat\n"
     ]
    }
   ],
   "source": [
    "# coding: utf-8\n",
    "from tkinter import filedialog\n",
    "import os\n",
    "import re\n",
    "# ファイル指定\n",
    "# typ = [('CSVファイル','*.csv')] \n",
    "typ = [(' ','*')] \n",
    "# dir = 'C:\\\\'\n",
    "dir = 'C:\\\\Users\\\\17T2166H\\\\OneDrive\\\\信州大学\\\\四年\\\\研究\\\\実験'\n",
    "fle = filedialog.askopenfilename(filetypes = typ, initialdir = dir) \n",
    "csv_name = fle\n",
    "print(\"読み込みファイル:\",fle)\n",
    "実験number =re.findall(r\"\\d+\", os.path.splitext(os.path.basename(fle))[0])[0]\n",
    "# csv_name =\"YYNo\"+実験number+\"_4pd.csv\""
   ]
  },
  {
   "cell_type": "code",
   "execution_count": 2,
   "metadata": {},
   "outputs": [],
   "source": [
    "# import seaborn as sns\n",
    "import pandas as pd\n",
    "import numpy as np\n",
    "# from scipy.signal import argrelmax\n",
    "import matplotlib.pyplot as plt\n",
    "from matplotlib.backends.backend_pdf import PdfPages\n",
    "# 日本語出力対応\n",
    "plt.rcParams['font.family'] = 'IPAexGothic'"
   ]
  },
  {
   "cell_type": "code",
   "execution_count": 3,
   "metadata": {},
   "outputs": [
    {
     "data": {
      "text/html": [
       "<div>\n",
       "<style scoped>\n",
       "    .dataframe tbody tr th:only-of-type {\n",
       "        vertical-align: middle;\n",
       "    }\n",
       "\n",
       "    .dataframe tbody tr th {\n",
       "        vertical-align: top;\n",
       "    }\n",
       "\n",
       "    .dataframe thead th {\n",
       "        text-align: right;\n",
       "    }\n",
       "</style>\n",
       "<table border=\"1\" class=\"dataframe\">\n",
       "  <thead>\n",
       "    <tr style=\"text-align: right;\">\n",
       "      <th></th>\n",
       "      <th>2sita</th>\n",
       "      <th>cps</th>\n",
       "    </tr>\n",
       "  </thead>\n",
       "  <tbody>\n",
       "    <tr>\n",
       "      <th>0</th>\n",
       "      <td>20.00</td>\n",
       "      <td>129</td>\n",
       "    </tr>\n",
       "    <tr>\n",
       "      <th>1</th>\n",
       "      <td>20.02</td>\n",
       "      <td>111</td>\n",
       "    </tr>\n",
       "    <tr>\n",
       "      <th>2</th>\n",
       "      <td>20.04</td>\n",
       "      <td>116</td>\n",
       "    </tr>\n",
       "    <tr>\n",
       "      <th>3</th>\n",
       "      <td>20.06</td>\n",
       "      <td>104</td>\n",
       "    </tr>\n",
       "    <tr>\n",
       "      <th>4</th>\n",
       "      <td>20.08</td>\n",
       "      <td>102</td>\n",
       "    </tr>\n",
       "    <tr>\n",
       "      <th>5</th>\n",
       "      <td>20.10</td>\n",
       "      <td>80</td>\n",
       "    </tr>\n",
       "    <tr>\n",
       "      <th>6</th>\n",
       "      <td>20.12</td>\n",
       "      <td>120</td>\n",
       "    </tr>\n",
       "    <tr>\n",
       "      <th>7</th>\n",
       "      <td>20.14</td>\n",
       "      <td>130</td>\n",
       "    </tr>\n",
       "    <tr>\n",
       "      <th>8</th>\n",
       "      <td>20.16</td>\n",
       "      <td>127</td>\n",
       "    </tr>\n",
       "    <tr>\n",
       "      <th>9</th>\n",
       "      <td>20.18</td>\n",
       "      <td>103</td>\n",
       "    </tr>\n",
       "  </tbody>\n",
       "</table>\n",
       "</div>"
      ],
      "text/plain": [
       "   2sita  cps\n",
       "0  20.00  129\n",
       "1  20.02  111\n",
       "2  20.04  116\n",
       "3  20.06  104\n",
       "4  20.08  102\n",
       "5  20.10   80\n",
       "6  20.12  120\n",
       "7  20.14  130\n",
       "8  20.16  127\n",
       "9  20.18  103"
      ]
     },
     "execution_count": 3,
     "metadata": {},
     "output_type": "execute_result"
    }
   ],
   "source": [
    "#CSVファイルをUTF-8形式で読み込む\n",
    "df_score = pd.read_csv(csv_name,encoding = 'UTF8', engine='python', names=(\"2sita\", \"cps\"), sep=\"   \")\n",
    "#dataを出力\n",
    "df_score[0:10]"
   ]
  },
  {
   "cell_type": "code",
   "execution_count": 4,
   "metadata": {},
   "outputs": [],
   "source": [
    "# 移動平均を作成\n",
    "average_num=5\n",
    "df_score[\"cps移動平均\"]=df_score[\"cps\"].rolling(average_num).mean().round(1)\n",
    "# df_score[0:10]"
   ]
  },
  {
   "cell_type": "code",
   "execution_count": 5,
   "metadata": {},
   "outputs": [
    {
     "data": {
      "image/png": "[encoded data removed]",
      "text/plain": [
       "<Figure size 432x288 with 1 Axes>"
      ]
     },
     "metadata": {
      "needs_background": "light"
     },
     "output_type": "display_data"
    }
   ],
   "source": [
    "# 表示データ抜き出し\n",
    "x=df_score[\"2sita\"]\n",
    "y=df_score[\"cps\"]\n",
    "y_rolling=df_score[\"cps移動平均\"]\n",
    "\n",
    "# グラフの作成、表示、保存（PDF）\n",
    "# fig = plt.figure()\n",
    "# ax = fig.add_subplot(111) \n",
    "plt.scatter(x, y, label=\"測定値\")\n",
    "plt.plot(x, y_rolling,color=\"r\", label=str(average_num)+\"データ移動平均\")\n",
    "# plt.set_title(\"YYNo\"+実験number)\n",
    "plt.xlabel(\"2θ\")\n",
    "plt.ylabel(\"cps\")\n",
    "plt.legend()\n",
    "# 個別調整\n",
    "# plt.yscale('log')\n",
    "plt.yscale('linear')\n",
    "plt.xlim(60,70)\n",
    "# plt.xlim(64,68)\n",
    "# kubomi = 68.7\n",
    "# plt.xlim(kubomi-0.3,kubomi+0.3)\n",
    "# plt.xlim(60,70)\n",
    "\n",
    "plt.ylim(0,100)\n",
    "# plt.ylim(0,30)\n",
    "plt.show()"
   ]
  },
  {
   "cell_type": "code",
   "execution_count": 6,
   "metadata": {},
   "outputs": [],
   "source": [
    "plt.close()"
   ]
  },
  {
   "cell_type": "code",
   "execution_count": 7,
   "metadata": {},
   "outputs": [
    {
     "data": {
      "text/plain": [
       "0.019999999999999574"
      ]
     },
     "execution_count": 7,
     "metadata": {},
     "output_type": "execute_result"
    }
   ],
   "source": [
    "# show_point=69.1\n",
    "# show_nom=int((show_point-20)/0.02)\n",
    "# df_score[show_nom-10:show_nom+10]\n",
    "df_score[\"2sita\"][1]-df_score[\"2sita\"][0]"
   ]
  },
  {
   "cell_type": "code",
   "execution_count": 9,
   "metadata": {},
   "outputs": [
    {
     "data": {
      "text/html": [
       "<div>\n",
       "<style scoped>\n",
       "    .dataframe tbody tr th:only-of-type {\n",
       "        vertical-align: middle;\n",
       "    }\n",
       "\n",
       "    .dataframe tbody tr th {\n",
       "        vertical-align: top;\n",
       "    }\n",
       "\n",
       "    .dataframe thead th {\n",
       "        text-align: right;\n",
       "    }\n",
       "</style>\n",
       "<table border=\"1\" class=\"dataframe\">\n",
       "  <thead>\n",
       "    <tr style=\"text-align: right;\">\n",
       "      <th></th>\n",
       "      <th>2sita</th>\n",
       "      <th>cps</th>\n",
       "      <th>cps移動平均</th>\n",
       "    </tr>\n",
       "  </thead>\n",
       "  <tbody>\n",
       "    <tr>\n",
       "      <th>2250</th>\n",
       "      <td>65.0008</td>\n",
       "      <td>62</td>\n",
       "      <td>53.2</td>\n",
       "    </tr>\n",
       "    <tr>\n",
       "      <th>2251</th>\n",
       "      <td>65.0208</td>\n",
       "      <td>51</td>\n",
       "      <td>55.4</td>\n",
       "    </tr>\n",
       "    <tr>\n",
       "      <th>2252</th>\n",
       "      <td>65.0408</td>\n",
       "      <td>39</td>\n",
       "      <td>51.8</td>\n",
       "    </tr>\n",
       "    <tr>\n",
       "      <th>2253</th>\n",
       "      <td>65.0608</td>\n",
       "      <td>44</td>\n",
       "      <td>48.4</td>\n",
       "    </tr>\n",
       "    <tr>\n",
       "      <th>2254</th>\n",
       "      <td>65.0808</td>\n",
       "      <td>35</td>\n",
       "      <td>46.2</td>\n",
       "    </tr>\n",
       "    <tr>\n",
       "      <th>2255</th>\n",
       "      <td>65.1008</td>\n",
       "      <td>43</td>\n",
       "      <td>42.4</td>\n",
       "    </tr>\n",
       "    <tr>\n",
       "      <th>2256</th>\n",
       "      <td>65.1208</td>\n",
       "      <td>41</td>\n",
       "      <td>40.4</td>\n",
       "    </tr>\n",
       "    <tr>\n",
       "      <th>2257</th>\n",
       "      <td>65.1408</td>\n",
       "      <td>33</td>\n",
       "      <td>39.2</td>\n",
       "    </tr>\n",
       "    <tr>\n",
       "      <th>2258</th>\n",
       "      <td>65.1608</td>\n",
       "      <td>49</td>\n",
       "      <td>40.2</td>\n",
       "    </tr>\n",
       "    <tr>\n",
       "      <th>2259</th>\n",
       "      <td>65.1808</td>\n",
       "      <td>66</td>\n",
       "      <td>46.4</td>\n",
       "    </tr>\n",
       "    <tr>\n",
       "      <th>2260</th>\n",
       "      <td>65.2008</td>\n",
       "      <td>43</td>\n",
       "      <td>46.4</td>\n",
       "    </tr>\n",
       "    <tr>\n",
       "      <th>2261</th>\n",
       "      <td>65.2208</td>\n",
       "      <td>40</td>\n",
       "      <td>46.2</td>\n",
       "    </tr>\n",
       "    <tr>\n",
       "      <th>2262</th>\n",
       "      <td>65.2408</td>\n",
       "      <td>39</td>\n",
       "      <td>47.4</td>\n",
       "    </tr>\n",
       "    <tr>\n",
       "      <th>2263</th>\n",
       "      <td>65.2608</td>\n",
       "      <td>48</td>\n",
       "      <td>47.2</td>\n",
       "    </tr>\n",
       "    <tr>\n",
       "      <th>2264</th>\n",
       "      <td>65.2808</td>\n",
       "      <td>43</td>\n",
       "      <td>42.6</td>\n",
       "    </tr>\n",
       "    <tr>\n",
       "      <th>2265</th>\n",
       "      <td>65.3008</td>\n",
       "      <td>57</td>\n",
       "      <td>45.4</td>\n",
       "    </tr>\n",
       "    <tr>\n",
       "      <th>2266</th>\n",
       "      <td>65.3208</td>\n",
       "      <td>45</td>\n",
       "      <td>46.4</td>\n",
       "    </tr>\n",
       "    <tr>\n",
       "      <th>2267</th>\n",
       "      <td>65.3408</td>\n",
       "      <td>34</td>\n",
       "      <td>45.4</td>\n",
       "    </tr>\n",
       "    <tr>\n",
       "      <th>2268</th>\n",
       "      <td>65.3608</td>\n",
       "      <td>35</td>\n",
       "      <td>42.8</td>\n",
       "    </tr>\n",
       "    <tr>\n",
       "      <th>2269</th>\n",
       "      <td>65.3808</td>\n",
       "      <td>46</td>\n",
       "      <td>43.4</td>\n",
       "    </tr>\n",
       "  </tbody>\n",
       "</table>\n",
       "</div>"
      ],
      "text/plain": [
       "        2sita  cps  cps移動平均\n",
       "2250  65.0008   62     53.2\n",
       "2251  65.0208   51     55.4\n",
       "2252  65.0408   39     51.8\n",
       "2253  65.0608   44     48.4\n",
       "2254  65.0808   35     46.2\n",
       "2255  65.1008   43     42.4\n",
       "2256  65.1208   41     40.4\n",
       "2257  65.1408   33     39.2\n",
       "2258  65.1608   49     40.2\n",
       "2259  65.1808   66     46.4\n",
       "2260  65.2008   43     46.4\n",
       "2261  65.2208   40     46.2\n",
       "2262  65.2408   39     47.4\n",
       "2263  65.2608   48     47.2\n",
       "2264  65.2808   43     42.6\n",
       "2265  65.3008   57     45.4\n",
       "2266  65.3208   45     46.4\n",
       "2267  65.3408   34     45.4\n",
       "2268  65.3608   35     42.8\n",
       "2269  65.3808   46     43.4"
      ]
     },
     "execution_count": 9,
     "metadata": {},
     "output_type": "execute_result"
    }
   ],
   "source": [
    "show_point=65.20\n",
    "# show_point=kubomi\n",
    "show_nom=int((show_point-20)/0.02)\n",
    "df_score[show_nom-10:show_nom+10]\n",
    "# df_score[\"2sita\"][show_nom-25:show_nom+25].max()"
   ]
  },
  {
   "cell_type": "code",
   "execution_count": 50,
   "metadata": {},
   "outputs": [
    {
     "name": "stdout",
     "output_type": "stream",
     "text": [
      "[  2580   2722   2691   2774   2764   2622   2740   2888   3134   3398\n",
      "   3995   4728   5906   8019  12576  27076  76367 121597  99366  48697\n",
      "  22271  12676   9262   9133  12482  24700  58852  84724  64602  30466\n",
      "  14082   7628   4979   3706   2998   2476   2143   1882   1685   1358\n",
      "   1276   1151   1010   1000    850    846    735    763    619    619]\n",
      "(array([ 3, 17, 27], dtype=int64),)\n"
     ]
    }
   ],
   "source": [
    "np_peak =(df_score[\"cps\"][show_nom-25:show_nom+25].values)\n",
    "# x = np.array([2, 1, 2, 3, 2, 0, 1, 0])\n",
    "print(np_peak)\n",
    "print(argrelmax(np_peak, order=3))"
   ]
  }
 ],
 "metadata": {
  "interpreter": {
   "hash": "339e8e661b019d06ca45b8e70a85ade3d968c73c8b8a09baf2d86f080d7a2dc2"
  },
  "kernelspec": {
   "display_name": "Python 3.9.7 64-bit ('YYnoteboke_xrayvenv': venv)",
   "name": "python3"
  },
  "language_info": {
   "codemirror_mode": {
    "name": "ipython",
    "version": 3
   },
   "file_extension": ".py",
   "mimetype": "text/x-python",
   "name": "python",
   "nbconvert_exporter": "python",
   "pygments_lexer": "ipython3",
   "version": "3.9.7"
  }
 },
 "nbformat": 4,
 "nbformat_minor": 2
}
