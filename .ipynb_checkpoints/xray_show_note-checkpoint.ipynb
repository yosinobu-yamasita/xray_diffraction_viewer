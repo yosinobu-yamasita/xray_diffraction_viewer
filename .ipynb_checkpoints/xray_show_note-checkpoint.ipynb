{
 "cells": [
  {
   "cell_type": "code",
   "execution_count": 1,
   "metadata": {},
   "outputs": [
    {
     "name": "stdout",
     "output_type": "stream",
     "text": [
      "読み込みファイル: C:/Users/17T2166H/OneDrive/信州大学/四年/研究/実験/20210629_第5回/X線回折による配向解析/YYNo005_4pd.csv\n"
     ]
    }
   ],
   "source": [
    "# coding: utf-8\n",
    "from tkinter import filedialog\n",
    "import os\n",
    "import re\n",
    "# ファイル指定\n",
    "typ = [('CSVファイル','*.csv')] \n",
    "# dir = 'C:\\\\'\n",
    "dir = 'C:\\\\Users\\\\17T2166H\\\\OneDrive\\\\信州大学\\\\四年\\\\研究'\n",
    "fle = filedialog.askopenfilename(filetypes = typ, initialdir = dir) \n",
    "csv_name = fle\n",
    "print(\"読み込みファイル:\",fle)\n",
    "実験number =re.findall(r\"\\d+\", os.path.splitext(os.path.basename(fle))[0])[0]\n",
    "# csv_name =\"YYNo\"+実験number+\"_4pd.csv\""
   ]
  },
  {
   "cell_type": "code",
   "execution_count": 2,
   "metadata": {
    "collapsed": true
   },
   "outputs": [],
   "source": [
    "import seaborn as sns\n",
    "import pandas as pd\n",
    "import matplotlib.pyplot as plt\n",
    "from matplotlib.backends.backend_pdf import PdfPages\n",
    "# 日本語出力対応\n",
    "plt.rcParams['font.family'] = 'IPAexGothic'"
   ]
  },
  {
   "cell_type": "code",
   "execution_count": 3,
   "metadata": {
    "collapsed": true
   },
   "outputs": [],
   "source": [
    "#CSVファイルをUTF-8形式で読み込む\n",
    "df_score = pd.read_csv(csv_name,encoding = 'UTF8',engine='python')\n",
    "#dataを出力\n",
    "# df_score[0:10]\n",
    "\n",
    "# 移動平均を作成\n",
    "average_num=5\n",
    "df_score[\"cps移動平均\"]=df_score[\"cps\"].rolling(average_num).mean().round(1)\n",
    "# df_score[0:10]"
   ]
  },
  {
   "cell_type": "code",
   "execution_count": 4,
   "metadata": {},
   "outputs": [
    {
     "data": {
      "text/plain": [
       "<matplotlib.legend.Legend at 0x1b47e292c18>"
      ]
     },
     "execution_count": 4,
     "metadata": {},
     "output_type": "execute_result"
    }
   ],
   "source": [
    "# 表示データ抜き出し\n",
    "x=df_score[\"2sita\"]\n",
    "y=df_score[\"cps\"]\n",
    "y_rolling=df_score[\"cps移動平均\"]\n",
    "\n",
    "# グラフの作成、表示、保存（PDF）\n",
    "fig = plt.figure()\n",
    "ax = fig.add_subplot(111) \n",
    "ax.scatter(x, y, label=\"測定値\")\n",
    "ax.plot(x, y_rolling,color=\"r\", label=str(average_num)+\"データ移動平均\")\n",
    "ax.set_title(\"YYNo\"+実験number)\n",
    "ax.set_xlabel(\"2θ\")\n",
    "ax.set_ylabel(\"cps\")\n",
    "plt.legend()"
   ]
  },
  {
   "cell_type": "code",
   "execution_count": 5,
   "metadata": {
    "collapsed": true
   },
   "outputs": [],
   "source": [
    "# 表示の調整\n",
    "plt_mode = \"nomal\"\n",
    "pdf_name= \"YYNo\"+実験number+\"_X線回折.pdf\"\n",
    "if df_score[\"cps移動平均\"].max()>10000:\n",
    "    ax.set_yscale('log')\n",
    "    plt_mode =\"log\"\n",
    "    pdf_name= \"YYNo\"+実験number+\"_X線回折_log.pdf\""
   ]
  },
  {
   "cell_type": "code",
   "execution_count": 7,
   "metadata": {},
   "outputs": [
    {
     "data": {
      "text/plain": [
       "(63, 70)"
      ]
     },
     "execution_count": 7,
     "metadata": {},
     "output_type": "execute_result"
    }
   ],
   "source": [
    "# 個別調整\n",
    "# plt.yscale('log')\n",
    "plt.yscale('linear')\n",
    "plt.xlim(63,70)\n",
    "# plt.xlim(65,70)\n",
    "# plt.ylim(0,50)"
   ]
  },
  {
   "cell_type": "code",
   "execution_count": 8,
   "metadata": {},
   "outputs": [
    {
     "data": {
      "image/png": "[encoded data removed]",
      "text/plain": [
       "<matplotlib.figure.Figure at 0x1b47e4b2128>"
      ]
     },
     "metadata": {},
     "output_type": "display_data"
    }
   ],
   "source": [
    "# 終了処理\n",
    "plt.show()\n",
    "plt.close()"
   ]
  }
 ],
 "metadata": {
  "kernelspec": {
   "display_name": "Python 3",
   "language": "python",
   "name": "python3"
  },
  "language_info": {
   "codemirror_mode": {
    "name": "ipython",
    "version": 3
   },
   "file_extension": ".py",
   "mimetype": "text/x-python",
   "name": "python",
   "nbconvert_exporter": "python",
   "pygments_lexer": "ipython3",
   "version": "3.6.1"
  }
 },
 "nbformat": 4,
 "nbformat_minor": 2
}
